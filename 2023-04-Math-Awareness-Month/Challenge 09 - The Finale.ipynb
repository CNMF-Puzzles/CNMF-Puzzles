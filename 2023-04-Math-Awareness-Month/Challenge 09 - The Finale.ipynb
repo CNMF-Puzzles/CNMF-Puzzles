{
 "cells": [
  {
   "cell_type": "code",
   "execution_count": null,
   "id": "365e1172",
   "metadata": {},
   "outputs": [],
   "source": [
    "###You need to install these packages to run this notebook and cells\n",
    "#!pip install pygfssss  cryptography"
   ]
  },
  {
   "cell_type": "code",
   "execution_count": null,
   "id": "1e34ac21-efde-4dc7-94c7-c4ddc0354d01",
   "metadata": {},
   "outputs": [],
   "source": [
    "# Your challenge is simple: Decrypt the following ciphertext\n",
    "ct = \"gAAAAABkSnEHhCTT3ouCoNHqkb9darxqIPro5wsVBdspvy7i9-H3nBpg3iEncXDRZ5eqaYPDVZuinPbs8eI_YMA1r2gg7-5SswMIabXAhRvQVDjPP_KCPLqaqM_is43kofaupX_BtzAiDDDybKtfoBMPvj---Ct-ToCBzE8TLZLifxPKDeUl7MJMhZiygtL1Im9Z1GHLXE-MpajJhv1L_2qE2224QSUarbnNEbUXW3QBdFsIR7PgugvhGDgxEYkkZ06-rYx_PNUUKfkn4xoBFTg4TjkCgsFeaUkIZ56J5qWlSbaN8hgJ4PUaeSRC67QVG_fZn06vBJ8S9C5f7ETAsUowswL5aj8qsyvyo0CPV_aZGrQHqoXdIW-bYVq2TT4o_RcRE2m-bW8kCUcAquRfJhMBVSOP7aTeqkAPKhvjNCDXy_2-ISPEWfarKqq_Wdp9lfRnSREHBOyphwNWR7JHEHJ6pVjRDMhmTcOXda3IrN86pP4CaPzTurCMaq3n7RDG_-vZ_s8cwIPVXM9z67Nhxs2qGCtco8MTw_MPud-fkFkVnpXzBV0iqlXQ8Pn483CP_rigdyGjM0e-pzaebQTZTma4AXEqECss5Swdge8MvqP6QM9OcZbQi-ddswgq--CC_mrYrogo50BWrS_7uVSnOXqyQgiXF-tVopL7q8vUC6Gq7OV07SisHzpzkke6VabT86sYJ0KnAwUV\"\n"
   ]
  },
  {
   "cell_type": "code",
   "execution_count": null,
   "id": "2660ada3",
   "metadata": {},
   "outputs": [],
   "source": [
    "from io import BytesIO\n",
    "import os \n",
    "import pygfssss.core\n",
    "from cryptography.fernet import Fernet\n",
    "from cryptography.hazmat.primitives.kdf.pbkdf2 import PBKDF2HMAC\n",
    "from cryptography.hazmat.primitives import hashes\n",
    "import base64 \n",
    "# not cryptographically safe. for demonstration only \n",
    "from collections import OrderedDict\n",
    "\n",
    "def hash_challenge(data:bytes, salt=b\"3.1415\"):\n",
    "    kdf = PBKDF2HMAC(\n",
    "        algorithm=hashes.SHA256(),\n",
    "        length=32,\n",
    "        salt=salt, \n",
    "        iterations=314159,\n",
    "    )\n",
    "    return kdf.derive(data)\n",
    "\n",
    "def hash_share(data:bytes):\n",
    "    digest = hashes.Hash(hashes.SHA256())\n",
    "    digest.update(data)\n",
    "    return digest.finalize()\n",
    "\n",
    "def decrypt_share(enc_share:str, key:bytes):\n",
    "    print(enc_share, type(enc_share))\n",
    "    box = Fernet(\n",
    "        base64.urlsafe_b64encode(key)\n",
    "    )\n",
    "    return box.decrypt(enc_share.encode())"
   ]
  },
  {
   "cell_type": "code",
   "execution_count": null,
   "id": "71043a2c-487f-4747-9321-cd9da4c1c559",
   "metadata": {},
   "outputs": [],
   "source": [
    "\n",
    "#### FILL IN THE CHALLENGES THAT YOU COMPLETED!\n",
    "#### YOU WILL NEED AT LEAST 5 TO DECODE THE FINAL MESSAGE\n",
    "\n",
    "#Examnple of having 5 challenges solved\n",
    "#FLags presented here are for example only, they are not the real answers\n",
    "'''\n",
    "challenge_solutions_base = {\n",
    "    \"Challenge 01 - Commit this to memory\":\"ENTRY_CHALLENGE\",\n",
    "    \"Challenge 02 - A Piece of Pie\":\"FLAG{This was the output}\",\n",
    "    \"Challenge 03 - Whats with dates\": False,\n",
    "    \"Challenge 04 - RISCVBizNiz\": \"FLAG{Cracked solution}\",\n",
    "    \"Challenge 05 - What in the PCAP is this\":\"FLAG{Solved Puzzle}\",\n",
    "    \"Challenge 06 - Cipher Crazy\":False,\n",
    "    \"Challenge 07 - XORians Gate\":\"Challenge output\",\n",
    "    \"Challenge 08 - Crypto Cowboy\":False\n",
    "}\n",
    "'''\n",
    "\n",
    "# Place your solution to your challenges here!\n",
    "challenge_solutions_base = {\n",
    "    \"Challenge 01 - Commit this to memory\": False,\n",
    "    \"Challenge 02 - A Piece of Pie\": False,\n",
    "    \"Challenge 03 - Whats with dates\": False,\n",
    "    \"Challenge 04 - RISCVBizNiz\": False,\n",
    "    \"Challenge 05 - What in the PCAP is this\": False,\n",
    "    \"Challenge 06 - Cipher Crazy\": False,\n",
    "    \"Challenge 07 - XORians Gate\": False,\n",
    "    \"Challenge 08 - Crypto Cowboy\": False\n",
    "}\n",
    "\n",
    "\n",
    "####DO NOT CHANGE THESE VALUES\n",
    "## retrieve all provided user solutions \n",
    "challenge_solutions = {i:j for i,j in challenge_solutions_base.items() if j}\n",
    "n_flags = len(challenge_solutions)\n",
    "threshold = 5\n",
    "if n_flags < threshold:\n",
    "    print(f\"[!] Warning: you need {threshold} flags to solve the final puzzle! You only provided {n_flags}\")"
   ]
  },
  {
   "cell_type": "markdown",
   "id": "4258ec1e-9c61-4837-be50-c9a0159a9e6b",
   "metadata": {},
   "source": [
    "# Recovering the Final Flag\n",
    "The final flag has been encrypted using the Fernet Cipher from python's cryptogaphy package.  The secret key used to encrypt it, was then broken into 8 shares. Each share on its own reveals nothign about the original key, but should you manage to find at least 5 flags, you will be able to decrypt the final challenge!\n",
    "\n",
    "For more information, you are encouraged to read the paper linked [here](https://web.mit.edu/6.857/OldStuff/Fall03/ref/Shamir-HowToShareASecret.pdf)"
   ]
  },
  {
   "cell_type": "code",
   "execution_count": null,
   "id": "ed1107c1-277d-412c-8e81-db6bec3ee820",
   "metadata": {},
   "outputs": [],
   "source": [
    "\n",
    "#The following contains a map of encrypted secret shares\n",
    "# each secret share was encrypted with the fernet cipher\n",
    "# The key is the result of feeding the flag through the Key derivation function\n",
    "# hash_challenge\n",
    "\n",
    "# these are the encrypted shares.\n",
    "challenge_encrypted_shares = {\n",
    "        'Challenge 01 - Commit this to memory': 'gAAAAABkSnEHyUH3fctpJ3AGNb5uA1i-sep6JgasMrkPWdJHWyvN4UcZjBewaPD7tgOFuVDQeSb6YKopNRPHg82CUO8ZOsycvhYDeKDsa176aMF3PblovhlETHikTHcAPgs64i8RfogD', \n",
    "        'Challenge 02 - A Piece of Pie': 'gAAAAABkSnEHovSQHDQaFq7nqvtT2DVdtgfCQ7_h2cdLC6WGeZbclHT2EmK6bCrCLGbk0Br6-Uu_MnfWXMSLR_aAyXkhfHW4iu4ZjTMz_bBnD7ZhQ611uSoIF1wXd4ZgtaJfZpuZKu5k', \n",
    "    'Challenge 03 - Whats with dates': 'gAAAAABkSnEHbNiNhAdnyBKHzr16u2onKlX2qKQwSMmX11mAXKg3Ojd22Z61j2g5KrpSyZtuqH_Dp7T2AozVWby-C4wSIcGgtMfyxfIryDwGw9kydKk2oRRI3olYeZ43zwE7Q7SxrC4k', \n",
    "    'Challenge 04 - RISCVBizNiz': 'gAAAAABkSnEHoHdjjzk5GImg5elkSqYGcXTO7A-G9WVJUMIIk_7PLTZWv_x_LBCZZfIhnMIjVWA-Bz4vdHI9CajyH7r6K8ooctEtQsuwH4S0wiPHrsdFejY0UyyAoN82W-25WElGnZ9C', \n",
    "    'Challenge 05 - What in the PCAP is this': 'gAAAAABkSnEHma1PdMjgdkoDEsGRGHQK08RvBAjO4Q80EgDczp9C7ThxdgIvHpabxRpHGmueEFAMdRqgKLiwt7sK9dnp0R5z6b9chDqjXDWUry5EcIQ81-AE9LFtsLKhhJy0c-RoIzSM', \n",
    "    'Challenge 06 - Cipher Crazy': 'gAAAAABkSnEH1DGHuhyP98wzU07TbOZjgxmCWmV_k5vdM6zmscR8wxze9GSFyrexp47U6uQZAj3k0cmLw_lSVQk1r9P-rCwmCTSJzUhyet2sZqv66hGWQhdQXeTCc3f4EK93N3-itlS1', \n",
    "    'Challenge 07 - XORians Gate': 'gAAAAABkSnEHlDyqPGpzpIWE0Pb77W7DbbguZQjQQjRYUHbMrrveCDimI4Ot6OsWjD5rx9KQvCiUvgLOQcjLr61Fx-Dg6AKKZL_2a5763oxJgHyGQY5u1M0eEgeRyy7PydNUehPyB4X1', \n",
    "    'Challenge 08 - Crypto Cowboy': 'gAAAAABkSnEHOKc_4leM_OobYNUQ7pQqKpiqes_ElCmCfvFIyHEax32I9fXMTWOJF5p9p-2FOKEE9w7xGu91uB0OMUNICRrCDgFki1Z_Cwy5-8hAP8Y0-RYmKMw5ldeEfFPTSrqdV1EH'\n",
    "}\n"
   ]
  },
  {
   "cell_type": "code",
   "execution_count": null,
   "id": "3cd175c4",
   "metadata": {},
   "outputs": [],
   "source": [
    "\n",
    "# suppose the player solved the first `threshold` challenges\n",
    "\n",
    "print(f\"The player has solved the first {n_flags} challenges!\")\n",
    "\n",
    "player_solution = []\n",
    "player_shares = []\n",
    "\n",
    "for challenge, flag_guess in challenge_solutions.items():\n",
    "    player_solution = hash_challenge(flag_guess.encode())\n",
    "    enc_share = challenge_encrypted_shares[challenge]\n",
    "    share = decrypt_share(enc_share, player_solution)\n",
    "    player_shares.append(share)\n",
    "\n",
    "\n",
    "player_subset = [BytesIO(i) for i in player_shares]\n",
    "\n",
    "# player tries to recover the key\n",
    "\n",
    "\n",
    "\n",
    "output_secret = BytesIO()\n",
    "pygfssss.core.combine(player_subset, output_secret)\n",
    "player_key = output_secret.getvalue()\n",
    "\n",
    "player_box  = Fernet(\n",
    "    base64.urlsafe_b64encode(player_key)\n",
    ")\n",
    "\n",
    "player_url = player_box.decrypt(ct.encode())"
   ]
  },
  {
   "cell_type": "code",
   "execution_count": null,
   "id": "8df4df50",
   "metadata": {},
   "outputs": [],
   "source": [
    "print(player_url.decode('utf-8'))"
   ]
  }
 ],
 "metadata": {
  "kernelspec": {
   "display_name": "Python 3 (ipykernel)",
   "language": "python",
   "name": "python3"
  },
  "language_info": {
   "codemirror_mode": {
    "name": "ipython",
    "version": 3
   },
   "file_extension": ".py",
   "mimetype": "text/x-python",
   "name": "python",
   "nbconvert_exporter": "python",
   "pygments_lexer": "ipython3",
   "version": "3.9.13"
  }
 },
 "nbformat": 4,
 "nbformat_minor": 5
}
